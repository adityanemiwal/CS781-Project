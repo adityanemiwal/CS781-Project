{
 "cells": [
  {
   "cell_type": "code",
   "execution_count": 173,
   "metadata": {},
   "outputs": [],
   "source": [
    "from utils import MiniWrapper\n",
    "from itertools import combinations\n",
    "from minigrid.core.constants import TILE_PIXELS\n",
    "from minigrid.wrappers import RGBImgObsWrapper, ImgObsWrapper\n",
    "\n",
    "import stormpy\n",
    "import stormpy.core\n",
    "import stormpy.simulator\n",
    "\n",
    "import stormpy.shields\n",
    "import stormpy.logic\n",
    "\n",
    "import stormpy.examples\n",
    "import stormpy.examples.files\n",
    "\n",
    "from PIL import Image, ImageDraw\n",
    "\n",
    "import re\n",
    "import numpy as np\n",
    "\n",
    "import gymnasium as gym\n",
    "\n",
    "import os\n",
    "\n",
    "from IPython.display import display\n",
    "import time\n",
    "from pathlib import Path"
   ]
  },
  {
   "cell_type": "markdown",
   "metadata": {},
   "source": [
    "### Load MiniGrid Environment"
   ]
  },
  {
   "cell_type": "code",
   "execution_count": 174,
   "metadata": {},
   "outputs": [
    {
     "name": "stdout",
     "output_type": "stream",
     "text": [
      "\n",
      "\n"
     ]
    },
    {
     "name": "stderr",
     "output_type": "stream",
     "text": [
      "/opt/venv/lib/python3.10/site-packages/gymnasium/core.py:311: UserWarning: \u001b[33mWARN: env.printGrid to get variables from other wrappers is deprecated and will be removed in v1.0, to get this variable you can do `env.unwrapped.printGrid` for environment variables or `env.get_wrapper_attr('printGrid')` that will search the reminding wrappers.\u001b[0m\n",
      "  logger.warn(\n"
     ]
    }
   ],
   "source": [
    "os.environ['M2P_BINARY'] = '/opt/Minigrid2PRISM/build/main'\n",
    "\n",
    "# Edit /opt/environments/notebooks/Minigrid/minigrid/envs/Playground.py for custom environment \n",
    "env = \"MiniGrid-Playground-v0\"\n",
    "\n",
    "# env = \"MiniGrid-LavaSlipperyCliff-16x13-Slip10-Time-v0\"\n",
    "\n",
    "# Set n, k\n",
    "n = 5\n",
    "k = 1\n",
    "actions_possible = ['0', '1', '2']\n",
    "\n",
    "env = gym.make(env, render_mode=\"rgb_array\")\n",
    "image_env = RGBImgObsWrapper(env, TILE_PIXELS)\n",
    "env = RGBImgObsWrapper(env, 8)\n",
    "env = ImgObsWrapper(env)\n",
    "env = MiniWrapper(env)\n",
    "Path(\"test/\").mkdir(exist_ok=True)\n",
    "grid_file = 'test/old_grid.txt'\n",
    "old_prism = 'test/old_prism.txt'\n",
    "new_prism = 'test/new_prism.txt'\n",
    "new_shield = 'test/new_shield.txt'\n",
    "with open(grid_file, \"w\") as f:\n",
    "    f.write(env.printGrid(init=True))\n",
    "os.system(F\"{os.getenv('M2P_BINARY')} -i {grid_file} -o {old_prism}\")\n",
    "onLavaFormula = \"formula OnLava = \"\n",
    "colAgentRange = \"\"\n",
    "rowAgentRange = \"\"\n",
    "with open(old_prism, 'r') as f:\n",
    "    for line in f:\n",
    "        if(line.startswith(\"formula AgentIsOnLava = \")):\n",
    "            onLavaFormula += line[23:]\n",
    "        if(\"colAgent : [\" in line):\n",
    "            colAgentRange = line\n",
    "        if(\"rowAgent : [\" in line):\n",
    "            rowAgentRange = line"
   ]
  },
  {
   "cell_type": "code",
   "execution_count": null,
   "metadata": {},
   "outputs": [],
   "source": []
  },
  {
   "cell_type": "markdown",
   "metadata": {},
   "source": [
    "### Load mdp for Playground"
   ]
  },
  {
   "cell_type": "code",
   "execution_count": 175,
   "metadata": {},
   "outputs": [
    {
     "name": "stdout",
     "output_type": "stream",
     "text": [
      "-------------------------------------------------------------- \n",
      "Model type: \tMDP (sparse)\n",
      "States: \t100\n",
      "Transitions: \t279\n",
      "Choices: \t253\n",
      "Reward Models:  none\n",
      "State Labels: \t2 labels\n",
      "   * deadlock -> 12 item(s)\n",
      "   * init -> 69 item(s)\n",
      "Choice Labels: \t6 labels\n",
      "   * Agent_turn_right -> 88 item(s)\n",
      "   * Agent_turn_left -> 88 item(s)\n",
      "   * Agent_move_East -> 16 item(s)\n",
      "   * Agent_move_South -> 16 item(s)\n",
      "   * Agent_move_West -> 16 item(s)\n",
      "   * Agent_move_North -> 17 item(s)\n",
      "-------------------------------------------------------------- \n",
      "\n"
     ]
    }
   ],
   "source": [
    "program = stormpy.parse_prism_program(old_prism)\n",
    "formulas = stormpy.parse_properties_for_prism_program(\"\", program)\n",
    "options = stormpy.BuilderOptions([p.raw_formula for p in formulas])\n",
    "options.set_build_state_valuations(True)\n",
    "options.set_build_choice_labels(True)\n",
    "options.set_build_all_labels()\n",
    "old_model = stormpy.build_sparse_model_with_options(program, options)\n",
    "print(old_model)"
   ]
  },
  {
   "cell_type": "markdown",
   "metadata": {},
   "source": [
    "### Construct new MDP\n",
    "The newer MDP contains states with additional information of last seen state, and actions taken after it\n",
    "\n",
    "This handles the case when we are not able to observe the environment"
   ]
  },
  {
   "cell_type": "code",
   "execution_count": 176,
   "metadata": {},
   "outputs": [],
   "source": [
    "choice_labeling = old_model.choice_labeling\n",
    "state_valuations = old_model.state_valuations\n",
    "mdp = {}\n",
    "for state in old_model.states:\n",
    "    state_valuation = state_valuations.get_string(state)\n",
    "    ints = dict(re.findall(r'([a-zA-Z][_a-zA-Z0-9]+)=(-?[a-zA-Z0-9]+)', state_valuation))\n",
    "    mdp[str(state)] = ({'colAgent': ints['colAgent'], \n",
    "                        'rowAgent': ints['rowAgent'], \n",
    "                        'viewAgent': ints['viewAgent'], \n",
    "                        'actions': tuple([-1 for _ in range(k)])\n",
    "                        })\n",
    "    \n",
    "    for action_possible in actions_possible:\n",
    "        mdp[str(state)][action_possible] = []\n",
    "    for action in state.actions:\n",
    "        old_action = str(action)\n",
    "        actions = list(choice_labeling.get_labels_of_choice(old_model.get_choice_index(state, int(str(action)))))\n",
    "        if(len(actions)==0):\n",
    "            continue\n",
    "        if('left' in actions[0]):\n",
    "            action_name = '0'\n",
    "        elif('right' in actions[0]):\n",
    "            action_name = '1'\n",
    "        elif('move' in actions[0]):\n",
    "            action_name = '2'\n",
    "        elif \"pickup\" in actions[0]:\n",
    "            action_name = '3'\n",
    "        elif \"drop\" in actions[0]:\n",
    "            action_name = '4'\n",
    "        elif \"toggle\" in actions[0]:\n",
    "            action_name = '5'\n",
    "        elif \"done\" in actions[0]:\n",
    "            action_name = '6'\n",
    "        else:\n",
    "            continue\n",
    "\n",
    "        for transition in action.transitions:\n",
    "            mdp[str(state)][action_name].append(str(transition.column))\n",
    "            # intsd = dict(re.findall(r'([a-zA-Z][_a-zA-Z0-9]+)=(-?[a-zA-Z0-9]+)', state_valuations.get_string(int(transition.column))))\n",
    "\n",
    "\n",
    "next_idx = len(mdp) + 1\n",
    "mdps = [{} for _ in range(k+1)]\n",
    "mdps[0] = mdp\n",
    "combined_mdp = mdps[0]\n",
    "for i in range(1,k+1):\n",
    "    mdp_next = {}\n",
    "    for state in mdps[i-1]:\n",
    "        state_info = mdps[i-1][state]\n",
    "        for action in actions_possible:\n",
    "            if(len(state_info[action])<=0):\n",
    "                continue\n",
    "            new_actions = list(state_info['actions'])\n",
    "            new_actions[i-1] = action\n",
    "            mdp_next[str(next_idx)] = ({'colAgent': state_info['colAgent'], \n",
    "                                    'rowAgent': state_info['rowAgent'], \n",
    "                                    'viewAgent': state_info['viewAgent'], \n",
    "                                    'actions': tuple(new_actions)\n",
    "                                    })\n",
    "            for action_possible in actions_possible:\n",
    "                mdp_next[str(next_idx)][action_possible] = []\n",
    "            for next_state in state_info[action]:\n",
    "                for action_possible in actions_possible:\n",
    "                    mdp_next[str(next_idx)][action_possible] += (combined_mdp[next_state][action_possible])\n",
    "            mdps[i-1][state][action].append(str(next_idx))\n",
    "            next_idx += 1\n",
    "    mdps[i] = mdp_next\n",
    "    combined_mdp = combined_mdp | mdps[i]\n",
    "\n",
    "with open('test/temp.txt', 'w')as f:\n",
    "    f.write(str(combined_mdp))\n",
    "    f.write('\\n')\n"
   ]
  },
  {
   "cell_type": "markdown",
   "metadata": {},
   "source": [
    "### Add history information to states\n",
    "History means the time (relative to current) when the environment didn't return the state"
   ]
  },
  {
   "cell_type": "code",
   "execution_count": 177,
   "metadata": {},
   "outputs": [],
   "source": [
    "cross_mdp = {}\n",
    "\n",
    "def eligible_histories(state):\n",
    "    actions = state['actions']\n",
    "    history = []\n",
    "    cnt = 0\n",
    "    for i, a in enumerate(actions):\n",
    "        if(a!=-1):\n",
    "            history.append(i+1)\n",
    "        else:\n",
    "            cnt += 1\n",
    "\n",
    "    if(cnt==0):\n",
    "        return [history]\n",
    "    \n",
    "    add_histories = []\n",
    "    for j in range(cnt+1):\n",
    "        prod = [list(i) + [n+1] * j for i in combinations(range(len(history)+2,n+1),cnt-j)]\n",
    "        add_histories += prod\n",
    "\n",
    "    histories = []\n",
    "    for e in add_histories:\n",
    "        histories.append(history + list(e))\n",
    "\n",
    "    return histories\n",
    "\n",
    "def incr(x):\n",
    "    return min(x+1, n+1)\n",
    "\n",
    "def nextObs(hist1):\n",
    "    hist2 = [0 for _ in range(k)]\n",
    "    for i in range(k):\n",
    "        hist2[i] = incr(hist1[i])\n",
    "    return hist2\n",
    "\n",
    "def nextNonObs(hist1):\n",
    "    hist2 = [1 for _ in range(k)]\n",
    "    if(k==0):\n",
    "        return []\n",
    "    if(hist1[k-1]<n):\n",
    "        return []\n",
    "    for i in range(1,k):\n",
    "        hist2[i] = incr(hist1[i-1])\n",
    "    return hist2\n",
    "\n",
    "cross_mdp = {}\n",
    "for state in combined_mdp:\n",
    "    # for i in range(1,k+1):\n",
    "    base_state = dict(combined_mdp[state])\n",
    "    for action_possible in actions_possible:\n",
    "        base_state.pop(action_possible, None)\n",
    "    for history in eligible_histories(base_state):\n",
    "        base_state['history'] = tuple(history)\n",
    "        cross_mdp[tuple(sorted(base_state.items()))] = {}\n",
    "        for action_possible in actions_possible:\n",
    "            cross_mdp[tuple(sorted(base_state.items()))][action_possible] = []\n",
    "\n",
    "\n",
    "for state in combined_mdp:\n",
    "    state_info = combined_mdp[state]\n",
    "    for action in actions_possible:\n",
    "        for next_state in state_info[action]:\n",
    "            histories1 = eligible_histories(combined_mdp[state])\n",
    "            histories2 = eligible_histories(combined_mdp[next_state])\n",
    "            base_state_1 = dict(combined_mdp[state])\n",
    "            base_state_2 = dict(combined_mdp[next_state])\n",
    "            for action_possible in actions_possible:\n",
    "                base_state_1.pop(action_possible, None)\n",
    "                base_state_2.pop(action_possible, None)\n",
    "                \n",
    "            for hist1 in histories1:\n",
    "                hist2 = nextObs(hist1)\n",
    "                if hist2 in histories2:\n",
    "                    base_state_1['history'] = tuple(hist1)\n",
    "                    base_state_2['history'] = tuple(hist2)\n",
    "                    cross_mdp[tuple(sorted(base_state_1.items()))][action].append(tuple(sorted(base_state_2.items())))\n",
    "                \n",
    "                hist2 = nextNonObs(hist1)\n",
    "                if hist2 in histories2:\n",
    "                    base_state_1['history'] = tuple(hist1)\n",
    "                    base_state_2['history'] = tuple(hist2)\n",
    "                    cross_mdp[tuple(sorted(base_state_1.items()))][action].append(tuple(sorted(base_state_2.items())))\n",
    "\n"
   ]
  },
  {
   "cell_type": "markdown",
   "metadata": {},
   "source": [
    "### Export new MDP to PRISM format"
   ]
  },
  {
   "cell_type": "code",
   "execution_count": 178,
   "metadata": {},
   "outputs": [],
   "source": [
    "with open(new_prism, 'w') as f:\n",
    "    f.write(\"mdp\\n\\n\")\n",
    "    f.write(f\"{onLavaFormula}\\n\")\n",
    "    f.write(\"init\\n\")\n",
    "    f.write(\"  true\\n\")\n",
    "    f.write(\"endinit\\n\\n\\n\")\n",
    "    f.write(\"module Agent\\n\")\n",
    "    f.write(colAgentRange)\n",
    "    f.write(rowAgentRange)\n",
    "    f.write(\"  viewAgent : [0..3];\\n\")\n",
    "    for i in range(1,k+1):\n",
    "        f.write(f\"  action{i} : [-1..{len(actions_possible)-1}];\\n\")\n",
    "    for i in range(1,k+1):\n",
    "        f.write(f\"  history{i} : [1..{n+1}];\\n\")\n",
    "\n",
    "    for state in cross_mdp:\n",
    "        state_info = dict(state)\n",
    "        for (action, action_name) in [('0', 'left'), ('1', 'right'), ('2', 'move')]:\n",
    "            \n",
    "            if(len(cross_mdp[state][action])==0):\n",
    "                continue\n",
    "            f.write(f\"  [{action_name}] colAgent={state_info['colAgent']} & rowAgent={state_info['rowAgent']} & viewAgent={state_info['viewAgent']}\")\n",
    "            for i in range(1,k+1):\n",
    "                f.write(f\" & action{i}={state_info['actions'][i-1]}\")\n",
    "            for i in range(1,k+1):\n",
    "                f.write(f\" & history{i}={state_info['history'][i-1]}\")\n",
    "            f.write(\" -> \")\n",
    "            for (idx, next_state) in enumerate(cross_mdp[state][action]):\n",
    "                next_state_info = dict(next_state)\n",
    "                f.write(f\"{1/len(cross_mdp[state][action])}: (colAgent'={next_state_info['colAgent']})&(rowAgent'={next_state_info['rowAgent']})&(viewAgent'={next_state_info['viewAgent']})\")\n",
    "                for i in range(1,k+1):\n",
    "                    f.write(f\"&(action{i}'={next_state_info['actions'][i-1]})\")\n",
    "                for i in range(1,k+1):\n",
    "                    f.write(f\"&(history{i}'={next_state_info['history'][i-1]})\")\n",
    "                if(idx != len(cross_mdp[state][action]) - 1):\n",
    "                    f.write(\" + \")\n",
    "                else:\n",
    "                    f.write(\";\\n\")\n",
    "\n",
    "    f.write(\"endmodule\")"
   ]
  },
  {
   "cell_type": "markdown",
   "metadata": {},
   "source": [
    "### Write to PRISM (Without history information)"
   ]
  },
  {
   "cell_type": "code",
   "execution_count": 179,
   "metadata": {},
   "outputs": [],
   "source": [
    "with open('test/combined_mdp.prism', 'w') as f:\n",
    "    f.write(\"mdp\\n\\n\")\n",
    "    f.write(f\"{onLavaFormula}\\n\")\n",
    "    f.write(\"init\\n\")\n",
    "    f.write(\"  true\\n\")\n",
    "    f.write(\"endinit\\n\\n\\n\")\n",
    "    f.write(\"module Agent\\n\")\n",
    "    f.write(colAgentRange)\n",
    "    f.write(rowAgentRange)\n",
    "    f.write(\"  viewAgent : [0..3];\\n\")\n",
    "    for i in range(1,k+1):\n",
    "        f.write(f\"  action{i} : [-1..{len(actions_possible)-1}];\\n\")\n",
    "\n",
    "    for state in combined_mdp:\n",
    "        state_info = combined_mdp[state]\n",
    "        for (action, action_name) in [('0', 'left'), ('1', 'right'), ('2', 'move')]:\n",
    "            \n",
    "            if(len(state_info[action])==0):\n",
    "                continue\n",
    "            f.write(f\"  [{action_name}] colAgent={state_info['colAgent']} & rowAgent={state_info['rowAgent']} & viewAgent={state_info['viewAgent']}\")\n",
    "            for i in range(1,k+1):\n",
    "                f.write(f\" & action{i}={state_info['actions'][i-1]}\")\n",
    "            f.write(\" -> \")\n",
    "            for (idx, next_state) in enumerate(state_info[action]):\n",
    "                next_state_info = combined_mdp[next_state]\n",
    "                f.write(f\"{1/len(state_info[action])}: (colAgent'={next_state_info['colAgent']})&(rowAgent'={next_state_info['rowAgent']})&(viewAgent'={next_state_info['viewAgent']})\")\n",
    "                for i in range(1,k+1):\n",
    "                    f.write(f\"&(action{i}'={next_state_info['actions'][i-1]})\")\n",
    "                if(idx != len(state_info[action]) - 1):\n",
    "                    f.write(\" + \")\n",
    "                else:\n",
    "                    f.write(\";\\n\")\n",
    "\n",
    "    f.write(\"endmodule\")"
   ]
  },
  {
   "cell_type": "markdown",
   "metadata": {},
   "source": [
    "### Load New MDP"
   ]
  },
  {
   "cell_type": "code",
   "execution_count": 180,
   "metadata": {},
   "outputs": [
    {
     "data": {
      "text/plain": [
       "<stormpy.core.BuilderOptions at 0x7fffbc73b3f0>"
      ]
     },
     "execution_count": 180,
     "metadata": {},
     "output_type": "execute_result"
    }
   ],
   "source": [
    "\n",
    "formula = 'Pmax=? [G ! OnLava]'\n",
    "program = stormpy.parse_prism_program(new_prism)\n",
    "\n",
    "formulas = stormpy.parse_properties_for_prism_program(formula, program)\n",
    "options = stormpy.BuilderOptions([p.raw_formula for p in formulas])\n",
    "options.set_build_state_valuations(True)\n",
    "options.set_build_choice_labels(True)\n",
    "options.set_build_all_labels()"
   ]
  },
  {
   "cell_type": "markdown",
   "metadata": {},
   "source": [
    "### Build model for new MDP"
   ]
  },
  {
   "cell_type": "code",
   "execution_count": 181,
   "metadata": {},
   "outputs": [
    {
     "name": "stdout",
     "output_type": "stream",
     "text": [
      "-------------------------------------------------------------- \n",
      "Model type: \tMDP (sparse)\n",
      "States: \t1834\n",
      "Transitions: \t3713\n",
      "Choices: \t3000\n",
      "Reward Models:  none\n",
      "State Labels: \t3 labels\n",
      "   * deadlock -> 1162 item(s)\n",
      "   * init -> 1561 item(s)\n",
      "   * !(((((colAgent = 4) & (rowAgent = 2)) | ((colAgent = 2) & (rowAgent = 3))) | ((colAgent = 3) & (rowAgent = 4)))) -> 1546 item(s)\n",
      "Choice Labels: \t3 labels\n",
      "   * left -> 672 item(s)\n",
      "   * move -> 494 item(s)\n",
      "   * right -> 672 item(s)\n",
      "-------------------------------------------------------------- \n",
      "\n"
     ]
    }
   ],
   "source": [
    "model = stormpy.build_sparse_model_with_options(program, options)\n",
    "print(model)"
   ]
  },
  {
   "cell_type": "markdown",
   "metadata": {},
   "source": [
    "### Calculate shield for new MDP"
   ]
  },
  {
   "cell_type": "code",
   "execution_count": 182,
   "metadata": {},
   "outputs": [],
   "source": [
    "shield_comparison = stormpy.logic.ShieldComparison.ABSOLUTE\n",
    "shield_expression = stormpy.logic.ShieldExpression(stormpy.logic.ShieldingType.PRE_SAFETY, shield_comparison,  1.0)\n",
    "\n",
    "result = stormpy.model_checking(model, formulas[0], extract_scheduler=True, shield_expression=shield_expression)\n",
    "assert result.has_shield"
   ]
  },
  {
   "cell_type": "markdown",
   "metadata": {},
   "source": [
    "### Export new shield"
   ]
  },
  {
   "cell_type": "code",
   "execution_count": 183,
   "metadata": {},
   "outputs": [
    {
     "name": "stdout",
     "output_type": "stream",
     "text": [
      " WARN (PreShield.cpp:50): No shielding action possible with absolute comparison for state with index 101\n",
      " WARN (PreShield.cpp:50): No shielding action possible with absolute comparison for state with index 106\n",
      " WARN (PreShield.cpp:50): No shielding action possible with absolute comparison for state with index 122\n",
      " WARN (PreShield.cpp:50): No shielding action possible with absolute comparison for state with index 133\n",
      " WARN (PreShield.cpp:50): No shielding action possible with absolute comparison for state with index 138\n",
      " WARN (PreShield.cpp:50): No shielding action possible with absolute comparison for state with index 154\n",
      " WARN (PreShield.cpp:50): No shielding action possible with absolute comparison for state with index 197\n",
      " WARN (PreShield.cpp:50): No shielding action possible with absolute comparison for state with index 213\n",
      " WARN (PreShield.cpp:50): No shielding action possible with absolute comparison for state with index 214\n",
      " WARN (PreShield.cpp:50): No shielding action possible with absolute comparison for state with index 235\n",
      " WARN (PreShield.cpp:50): No shielding action possible with absolute comparison for state with index 329\n",
      " WARN (PreShield.cpp:50): No shielding action possible with absolute comparison for state with index 334\n",
      " WARN (PreShield.cpp:50): No shielding action possible with absolute comparison for state with index 350\n",
      " WARN (PreShield.cpp:50): No shielding action possible with absolute comparison for state with index 589\n",
      " WARN (PreShield.cpp:50): No shielding action possible with absolute comparison for state with index 594\n",
      " WARN (PreShield.cpp:50): No shielding action possible with absolute comparison for state with index 610\n",
      " WARN (PreShield.cpp:50): No shielding action possible with absolute comparison for state with index 849\n",
      " WARN (PreShield.cpp:50): No shielding action possible with absolute comparison for state with index 854\n",
      " WARN (PreShield.cpp:50): No shielding action possible with absolute comparison for state with index 870\n",
      " WARN (PreShield.cpp:50): No shielding action possible with absolute comparison for state with index 1093\n",
      " WARN (PreShield.cpp:50): No shielding action possible with absolute comparison for state with index 1109\n",
      " WARN (PreShield.cpp:50): No shielding action possible with absolute comparison for state with index 1114\n",
      " WARN (PreShield.cpp:50): No shielding action possible with absolute comparison for state with index 1130\n",
      " WARN (PreShield.cpp:50): No shielding action possible with absolute comparison for state with index 1353\n",
      " WARN (PreShield.cpp:50): No shielding action possible with absolute comparison for state with index 1369\n",
      " WARN (PreShield.cpp:50): No shielding action possible with absolute comparison for state with index 1374\n",
      " WARN (PreShield.cpp:50): No shielding action possible with absolute comparison for state with index 1390\n",
      " WARN (PreShield.cpp:50): No shielding action possible with absolute comparison for state with index 1794\n",
      "Write to file test/new_shield.txt.\n",
      " WARN (PreShield.cpp:50): No shielding action possible with absolute comparison for state with index 101\n",
      " WARN (PreShield.cpp:50): No shielding action possible with absolute comparison for state with index 106\n",
      " WARN (PreShield.cpp:50): No shielding action possible with absolute comparison for state with index 122\n",
      " WARN (PreShield.cpp:50): No shielding action possible with absolute comparison for state with index 133\n",
      " WARN (PreShield.cpp:50): No shielding action possible with absolute comparison for state with index 138\n",
      " WARN (PreShield.cpp:50): No shielding action possible with absolute comparison for state with index 154\n",
      " WARN (PreShield.cpp:50): No shielding action possible with absolute comparison for state with index 197\n",
      " WARN (PreShield.cpp:50): No shielding action possible with absolute comparison for state with index 213\n",
      " WARN (PreShield.cpp:50): No shielding action possible with absolute comparison for state with index 214\n",
      " WARN (PreShield.cpp:50): No shielding action possible with absolute comparison for state with index 235\n",
      " WARN (PreShield.cpp:50): No shielding action possible with absolute comparison for state with index 329\n",
      " WARN (PreShield.cpp:50): No shielding action possible with absolute comparison for state with index 334\n",
      " WARN (PreShield.cpp:50): No shielding action possible with absolute comparison for state with index 350\n",
      " WARN (PreShield.cpp:50): No shielding action possible with absolute comparison for state with index 589\n",
      " WARN (PreShield.cpp:50): No shielding action possible with absolute comparison for state with index 594\n",
      " WARN (PreShield.cpp:50): No shielding action possible with absolute comparison for state with index 610\n",
      " WARN (PreShield.cpp:50): No shielding action possible with absolute comparison for state with index 849\n",
      " WARN (PreShield.cpp:50): No shielding action possible with absolute comparison for state with index 854\n",
      " WARN (PreShield.cpp:50): No shielding action possible with absolute comparison for state with index 870\n",
      " WARN (PreShield.cpp:50): No shielding action possible with absolute comparison for state with index 1093\n",
      " WARN (PreShield.cpp:50): No shielding action possible with absolute comparison for state with index 1109\n",
      " WARN (PreShield.cpp:50): No shielding action possible with absolute comparison for state with index 1114\n",
      " WARN (PreShield.cpp:50): No shielding action possible with absolute comparison for state with index 1130\n",
      " WARN (PreShield.cpp:50): No shielding action possible with absolute comparison for state with index 1353\n",
      " WARN (PreShield.cpp:50): No shielding action possible with absolute comparison for state with index 1369\n",
      " WARN (PreShield.cpp:50): No shielding action possible with absolute comparison for state with index 1374\n",
      " WARN (PreShield.cpp:50): No shielding action possible with absolute comparison for state with index 1390\n",
      " WARN (PreShield.cpp:50): No shielding action possible with absolute comparison for state with index 1794\n"
     ]
    }
   ],
   "source": [
    "shield = result.shield\n",
    "action_dictionary = dict()\n",
    "shield_scheduler = shield.construct()\n",
    "state_valuations = model.state_valuations\n",
    "choice_labeling = model.choice_labeling\n",
    "stormpy.shields.export_shield(model, shield, new_shield)"
   ]
  },
  {
   "cell_type": "markdown",
   "metadata": {},
   "source": [
    "### Get action mask using Shield"
   ]
  },
  {
   "cell_type": "code",
   "execution_count": 184,
   "metadata": {},
   "outputs": [],
   "source": [
    "def get_allowed_actions_mask(actions):\n",
    "    action_mask = [0.0] * 7\n",
    "    actions_labels = [label for labels in actions for label in list(labels)]\n",
    "    for action_label in actions_labels:\n",
    "        if \"move\" in action_label:\n",
    "            action_mask[2] = 1.0\n",
    "        elif \"left\" in action_label:\n",
    "            action_mask[0] = 1.0\n",
    "        elif \"right\" in action_label:\n",
    "            action_mask[1] = 1.0\n",
    "        elif \"pickup\" in action_label:\n",
    "            action_mask[3] = 1.0\n",
    "        elif \"drop\" in action_label:\n",
    "            action_mask[4] = 1.0\n",
    "        elif \"toggle\" in action_label:\n",
    "            action_mask[5] = 1.0\n",
    "        elif \"done\" in action_label:\n",
    "            action_mask[6] = 1.0\n",
    "    return action_mask\n",
    "\n",
    "for stateID in model.states:\n",
    "    choice = shield_scheduler.get_choice(stateID)\n",
    "    choices = choice.choice_map\n",
    "\n",
    "    state_valuation = state_valuations.get_string(stateID)\n",
    "    ints = dict(re.findall(r'([a-zA-Z][_a-zA-Z0-9]+)=(-?[a-zA-Z0-9]+)', state_valuation))\n",
    "    booleans = re.findall(r'(\\!?)([a-zA-Z][_a-zA-Z0-9]+)[\\s\\t]+', state_valuation)\n",
    "    booleans = {b[1]: False if b[0] == \"!\" else True for b in booleans}\n",
    "    \n",
    "    state = tuple(sorted(ints.items()))\n",
    "    action_dictionary[state] = get_allowed_actions_mask([choice_labeling.get_labels_of_choice(model.get_choice_index(stateID, choice[1])) for choice in choices])"
   ]
  },
  {
   "cell_type": "markdown",
   "metadata": {},
   "source": [
    "### Visualise the Shield\n",
    "For (k=0) OR (k=1 AND n>=4) OR (k=2 AND n>=5)"
   ]
  },
  {
   "cell_type": "code",
   "execution_count": 185,
   "metadata": {},
   "outputs": [
    {
     "name": "stdout",
     "output_type": "stream",
     "text": [
      "k=1; n>=4\n",
      "When there are no non-observed states in the last n states:\n",
      "Which means next state can be unobserved\n"
     ]
    },
    {
     "name": "stderr",
     "output_type": "stream",
     "text": [
      "/opt/venv/lib/python3.10/site-packages/gymnasium/core.py:311: UserWarning: \u001b[33mWARN: env.get_frame to get variables from other wrappers is deprecated and will be removed in v1.0, to get this variable you can do `env.unwrapped.get_frame` for environment variables or `env.get_wrapper_attr('get_frame')` that will search the reminding wrappers.\u001b[0m\n",
      "  logger.warn(\n",
      "/opt/venv/lib/python3.10/site-packages/gymnasium/core.py:311: UserWarning: \u001b[33mWARN: env.width to get variables from other wrappers is deprecated and will be removed in v1.0, to get this variable you can do `env.unwrapped.width` for environment variables or `env.get_wrapper_attr('width')` that will search the reminding wrappers.\u001b[0m\n",
      "  logger.warn(\n",
      "/opt/venv/lib/python3.10/site-packages/gymnasium/core.py:311: UserWarning: \u001b[33mWARN: env.height to get variables from other wrappers is deprecated and will be removed in v1.0, to get this variable you can do `env.unwrapped.height` for environment variables or `env.get_wrapper_attr('height')` that will search the reminding wrappers.\u001b[0m\n",
      "  logger.warn(\n"
     ]
    },
    {
     "data": {
      "image/png": "[encoded data removed]",
      "text/plain": [
       "<PIL.Image.Image image mode=RGBA size=224x224>"
      ]
     },
     "metadata": {},
     "output_type": "display_data"
    },
    {
     "name": "stdout",
     "output_type": "stream",
     "text": [
      "The previous state wasn't observed\n",
      "i.e. Next state will definitely be observed\n",
      "Next to next state will also be observed\n"
     ]
    },
    {
     "data": {
      "image/png": "[encoded data removed]",
      "text/plain": [
       "<PIL.Image.Image image mode=RGBA size=224x224>"
      ]
     },
     "metadata": {},
     "output_type": "display_data"
    },
    {
     "name": "stdout",
     "output_type": "stream",
     "text": [
      "When the last non-observed state occured n-1 steps before\n",
      "i.e. The next state would definitely be observed, but can't say for the next to next one\n"
     ]
    },
    {
     "data": {
      "image/png": "[encoded data removed]",
      "text/plain": [
       "<PIL.Image.Image image mode=RGBA size=224x224>"
      ]
     },
     "metadata": {},
     "output_type": "display_data"
    }
   ],
   "source": [
    "def triangle_for_overlay(x,y, dir, tile_size):\n",
    "    offset = tile_size/2\n",
    "    if dir == 0: return [((x+1)*tile_size,y*tile_size), ((x+1)*tile_size,(y+1)*tile_size), ((x+1)*tile_size-offset, y*tile_size+tile_size/2)]\n",
    "    if dir == 1: return [(x*tile_size,(y+1)*tile_size), ((x+1)*tile_size,(y+1)*tile_size), (x*tile_size+tile_size/2, (y+1)*tile_size-offset)]\n",
    "    if dir == 2: return [(x*tile_size,y*tile_size), (x*tile_size,(y+1)*tile_size), (x*tile_size+offset, y*tile_size+tile_size/2)]\n",
    "    if dir == 3: return [(x*tile_size,y*tile_size), ((x+1)*tile_size,y*tile_size), (x*tile_size+tile_size/2, y*tile_size+offset)]\n",
    "        \n",
    "def create_shield_overlay_image(env, shield, history):\n",
    "    env.reset()\n",
    "    img = Image.fromarray(env.render()).convert(\"RGBA\")\n",
    "    ts = env.tile_size\n",
    "    overlay = Image.new(\"RGBA\", img.size, (255, 255, 255, 0))\n",
    "    draw = ImageDraw.Draw(overlay)\n",
    "    red = (255,0,0,200)\n",
    "    for x in range(0, env.width):\n",
    "        for y in range(0, env.height):\n",
    "            for dir in range(0,4):\n",
    "                key = {'colAgent': str(x+1), 'rowAgent': str(y+1), 'viewAgent': str(dir)}\n",
    "                for i in range(1,k+1):\n",
    "                    key[f\"action{i}\"] = '-1'\n",
    "                for i in range(1,k+1):\n",
    "                    key[f\"history{i}\"] = str(history[i-1])\n",
    "                key = tuple(sorted(key.items()))\n",
    "                # print(key)\n",
    "                try:\n",
    "                    if shield[key][2] <= 0.0:\n",
    "                        draw.polygon(triangle_for_overlay(x+1,y+1,dir,ts), fill=red)\n",
    "                except KeyError: pass\n",
    "    img = Image.alpha_composite(img, overlay)\n",
    "    img.show()\n",
    "    \n",
    "if(k==0):\n",
    "    print(\"k=0; default shield; Observation guaranteed at all steps\")\n",
    "    create_shield_overlay_image(image_env, action_dictionary, [])\n",
    "\n",
    "if(k==1 and n>=4):\n",
    "    history = []\n",
    "    print(\"k=1; n>=4\")\n",
    "    print(\"When there are no non-observed states in the last n states:\")\n",
    "    print(\"Which means next state can be unobserved\")\n",
    "    for i in range(1,k+1):\n",
    "        history.append(str(n+1))\n",
    "    create_shield_overlay_image(image_env, action_dictionary, history)\n",
    "\n",
    "    print(\"The previous state wasn't observed\")\n",
    "    print(\"i.e. Next state will definitely be observed\")\n",
    "    print(\"Next to next state will also be observed\")\n",
    "    history = ['2']\n",
    "    create_shield_overlay_image(image_env, action_dictionary, history)\n",
    "\n",
    "    print(\"When the last non-observed state occured n-1 steps before\")\n",
    "    print(\"i.e. The next state would definitely be observed, but can't say for the next to next one\")\n",
    "    history = [str(n-1)]\n",
    "    create_shield_overlay_image(image_env, action_dictionary, history)\n",
    "\n",
    "if(k==2 and n>=5):\n",
    "    history = []\n",
    "    print(\"k=2; n>=5\")\n",
    "    print(\"When there are no non-observed states in the last n states:\")\n",
    "    print(\"Which means next state can be unobserved\")\n",
    "    for i in range(1,k+1):\n",
    "        history.append(str(n+1))\n",
    "    create_shield_overlay_image(image_env, action_dictionary, history)\n",
    "\n",
    "    print(\"The previous two states wasn't observed\")\n",
    "    print(\"i.e. Next state will definitely be observed\")\n",
    "    print(\"Next to next state will also be observed\")\n",
    "    history = ['2', '3']\n",
    "    create_shield_overlay_image(image_env, action_dictionary, history)\n",
    "\n",
    "    print(\"The last two non-observed states occured n-2 and n-1 steps before\")\n",
    "    print(\"i.e. The next state would definitely be observed, but can't say for the next to next one\")\n",
    "    history = [str(n-2), str(n-1)]\n",
    "    create_shield_overlay_image(image_env, action_dictionary, history)"
   ]
  },
  {
   "cell_type": "markdown",
   "metadata": {},
   "source": [
    "### Simulation"
   ]
  },
  {
   "cell_type": "code",
   "execution_count": 186,
   "metadata": {},
   "outputs": [
    {
     "name": "stderr",
     "output_type": "stream",
     "text": [
      "/opt/venv/lib/python3.10/site-packages/gymnasium/core.py:311: UserWarning: \u001b[33mWARN: env.agent_pos to get variables from other wrappers is deprecated and will be removed in v1.0, to get this variable you can do `env.unwrapped.agent_pos` for environment variables or `env.get_wrapper_attr('agent_pos')` that will search the reminding wrappers.\u001b[0m\n",
      "  logger.warn(\n",
      "/opt/venv/lib/python3.10/site-packages/gymnasium/core.py:311: UserWarning: \u001b[33mWARN: env.agent_dir to get variables from other wrappers is deprecated and will be removed in v1.0, to get this variable you can do `env.unwrapped.agent_dir` for environment variables or `env.get_wrapper_attr('agent_dir')` that will search the reminding wrappers.\u001b[0m\n",
      "  logger.warn(\n"
     ]
    },
    {
     "data": {
      "image/png": "[encoded data removed]",
      "text/plain": [
       "<PIL.Image.Image image mode=RGBA size=224x224>"
      ]
     },
     "metadata": {},
     "output_type": "display_data"
    },
    {
     "name": "stdout",
     "output_type": "stream",
     "text": [
      "State: {'colAgent': '1', 'rowAgent': '1', 'viewAgent': '0', 'action1': '-1', 'history1': '6'}\n",
      "Allowed Actions: [0, 1, 2]\n",
      "Action Taken: 1\n",
      "Observed:\n"
     ]
    },
    {
     "data": {
      "image/png": "[encoded data removed]",
      "text/plain": [
       "<PIL.Image.Image image mode=RGBA size=224x224>"
      ]
     },
     "metadata": {},
     "output_type": "display_data"
    },
    {
     "name": "stdout",
     "output_type": "stream",
     "text": [
      "State: {'colAgent': '1', 'rowAgent': '1', 'viewAgent': '1', 'action1': '-1', 'history1': '6'}\n",
      "Allowed Actions: [0, 1, 2]\n",
      "Action Taken: 2\n",
      "Observed:\n"
     ]
    },
    {
     "data": {
      "image/png": "[encoded data removed]",
      "text/plain": [
       "<PIL.Image.Image image mode=RGBA size=224x224>"
      ]
     },
     "metadata": {},
     "output_type": "display_data"
    },
    {
     "name": "stdout",
     "output_type": "stream",
     "text": [
      "State: {'colAgent': '1', 'rowAgent': '2', 'viewAgent': '1', 'action1': '-1', 'history1': '6'}\n",
      "Allowed Actions: [0, 1, 2]\n",
      "Action Taken: 0\n",
      "Observed:\n"
     ]
    },
    {
     "data": {
      "image/png": "[encoded data removed]",
      "text/plain": [
       "<PIL.Image.Image image mode=RGBA size=224x224>"
      ]
     },
     "metadata": {},
     "output_type": "display_data"
    },
    {
     "name": "stdout",
     "output_type": "stream",
     "text": [
      "State: {'colAgent': '1', 'rowAgent': '2', 'viewAgent': '0', 'action1': '-1', 'history1': '6'}\n",
      "Allowed Actions: [0, 1]\n",
      "Action Taken: 2\n",
      "Observed:\n"
     ]
    },
    {
     "data": {
      "image/png": "[encoded data removed]",
      "text/plain": [
       "<PIL.Image.Image image mode=RGBA size=224x224>"
      ]
     },
     "metadata": {},
     "output_type": "display_data"
    },
    {
     "name": "stdout",
     "output_type": "stream",
     "text": [
      "State: {'colAgent': '2', 'rowAgent': '2', 'viewAgent': '0', 'action1': '-1', 'history1': '6'}\n",
      "Allowed Actions: []\n",
      "No possible action!\n",
      "Action Taken: 2\n",
      "Not Observed:\n"
     ]
    },
    {
     "data": {
      "image/png": "[encoded data removed]",
      "text/plain": [
       "<PIL.Image.Image image mode=RGBA size=224x224>"
      ]
     },
     "metadata": {},
     "output_type": "display_data"
    },
    {
     "name": "stdout",
     "output_type": "stream",
     "text": [
      "State: {'colAgent': '2', 'rowAgent': '2', 'viewAgent': '0', 'action1': '2', 'history1': '1'}\n",
      "Allowed Actions: []\n",
      "No possible action!\n",
      "Action Taken: 2\n",
      "Observed:\n"
     ]
    },
    {
     "data": {
      "image/png": "[encoded data removed]",
      "text/plain": [
       "<PIL.Image.Image image mode=RGBA size=224x224>"
      ]
     },
     "metadata": {},
     "output_type": "display_data"
    },
    {
     "name": "stdout",
     "output_type": "stream",
     "text": [
      "State: {'colAgent': '4', 'rowAgent': '2', 'viewAgent': '0', 'action1': '-1', 'history1': '2'}\n",
      "Allowed Actions: []\n",
      "No possible action!\n",
      "Action Taken: \n"
     ]
    },
    {
     "ename": "ValueError",
     "evalue": "invalid literal for int() with base 10: ''",
     "output_type": "error",
     "traceback": [
      "\u001b[0;31m---------------------------------------------------------------------------\u001b[0m",
      "\u001b[0;31mValueError\u001b[0m                                Traceback (most recent call last)",
      "Cell \u001b[0;32mIn[186], line 46\u001b[0m\n\u001b[1;32m     43\u001b[0m next_action \u001b[38;5;241m=\u001b[39m \u001b[38;5;28minput\u001b[39m(\u001b[38;5;124m\"\u001b[39m\u001b[38;5;124mWhich action?\u001b[39m\u001b[38;5;124m\"\u001b[39m)\n\u001b[1;32m     45\u001b[0m \u001b[38;5;28mprint\u001b[39m(\u001b[38;5;124mf\u001b[39m\u001b[38;5;124m\"\u001b[39m\u001b[38;5;124mAction Taken: \u001b[39m\u001b[38;5;132;01m{\u001b[39;00mnext_action\u001b[38;5;132;01m}\u001b[39;00m\u001b[38;5;124m\"\u001b[39m)\n\u001b[0;32m---> 46\u001b[0m env\u001b[38;5;241m.\u001b[39mstep(\u001b[38;5;28;43mint\u001b[39;49m\u001b[43m(\u001b[49m\u001b[43mnext_action\u001b[49m\u001b[43m)\u001b[49m)\n\u001b[1;32m     48\u001b[0m pos \u001b[38;5;241m=\u001b[39m \u001b[38;5;28mtuple\u001b[39m(env\u001b[38;5;241m.\u001b[39magent_pos)\n\u001b[1;32m     49\u001b[0m direc \u001b[38;5;241m=\u001b[39m env\u001b[38;5;241m.\u001b[39magent_dir\n",
      "\u001b[0;31mValueError\u001b[0m: invalid literal for int() with base 10: ''"
     ]
    }
   ],
   "source": [
    "# a = observed\n",
    "# b = unobserved\n",
    "# observe_sequence to decide if states are unobserved or observed\n",
    "# observe_sequence = \"abbaa\" means first state seen, next two not seen, and then next two seen\n",
    "# Default sequences for some cases are provided\n",
    "# The sequnce should obey the (N, k) condition though, otherwise the code may throw an error\n",
    "\n",
    "if(k==0):\n",
    "    observe_sequence = \"aaaaaaaaaaaaaaaaaaaaa\"\n",
    "elif(k==1 and n<=5):\n",
    "    observe_sequence = \"aaaabaaaaaabaaaabaaaa\"\n",
    "elif(k==2 and n<=5):\n",
    "    observe_sequence = \"aaabbaaabbaaaababaaaa\"\n",
    "else:\n",
    "    observe_sequence = \"\"\n",
    "\n",
    "env.reset()\n",
    "pos = tuple(env.agent_pos)\n",
    "direc = env.agent_dir\n",
    "state = {'colAgent': str(pos[0]), 'rowAgent': str(pos[1]), 'viewAgent': str(direc)}\n",
    "for i in range(1,k+1):\n",
    "    state[f\"action{i}\"] = '-1'\n",
    "for i in range(1,k+1):\n",
    "    state[f\"history{i}\"] = str(n+1)\n",
    "\n",
    "img = Image.fromarray(image_env.render()).convert(\"RGBA\")\n",
    "img.show()\n",
    "\n",
    "for e in observe_sequence:\n",
    "    action_values = action_dictionary[tuple(sorted(state.items()))]\n",
    "    allowed_actions = []\n",
    "    for idx, value in enumerate(action_values):\n",
    "        if(value>0.9):\n",
    "            allowed_actions.append(idx)\n",
    "            \n",
    "    print(\"State:\", state) \n",
    "    print(\"Allowed Actions:\", allowed_actions, flush=True)\n",
    "\n",
    "    \n",
    "    if(len(allowed_actions)==0):\n",
    "        print(\"No possible action!\", flush=True)\n",
    "\n",
    "    next_action = input(\"Which action?\")\n",
    "\n",
    "    print(f\"Action Taken: {next_action}\")\n",
    "    env.step(int(next_action))\n",
    "\n",
    "    pos = tuple(env.agent_pos)\n",
    "    direc = env.agent_dir\n",
    "\n",
    "    if(e==\"a\"):\n",
    "        state['colAgent'] = str(pos[0])\n",
    "        state['rowAgent'] = str(pos[1])\n",
    "        state['viewAgent'] = str(direc)\n",
    "        for i in range(1,k+1):\n",
    "            state[f\"action{i}\"] = '-1'\n",
    "            \n",
    "        old_history = []\n",
    "        for i in range(1,k+1):\n",
    "            old_history.append(int(state[f\"history{i}\"]))\n",
    "            \n",
    "        new_history = nextObs(old_history)\n",
    "        for i in range(1,k+1):\n",
    "            state[f\"history{i}\"] = str(new_history[i-1])\n",
    "            \n",
    "        print(\"Observed:\")\n",
    "        img = Image.fromarray(image_env.render()).convert(\"RGBA\")\n",
    "        # img.show()\n",
    "        \n",
    "    elif(e==\"b\"):\n",
    "        old_state = {}\n",
    "        old_state['colAgent'] = state['colAgent']\n",
    "        old_state['rowAgent'] = state['rowAgent']\n",
    "        old_state['viewAgent'] = state['viewAgent']\n",
    "        old_state['actions'] = []\n",
    "        for i in range(1,k+1):\n",
    "            if int(state[f\"action{i}\"]) == -1:\n",
    "                old_state['actions'].append(int(state[f\"action{i}\"]))\n",
    "            else:\n",
    "                old_state['actions'].append(str(state[f\"action{i}\"]))\n",
    "        old_state['actions'] = tuple(old_state['actions'])\n",
    "        old_state['history'] = []\n",
    "        for i in range(1,k+1):\n",
    "            old_state['history'].append(int(state[f\"history{i}\"]))\n",
    "        old_state['history'] = tuple(old_state['history'])\n",
    "        # print(state, old_state)\n",
    "\n",
    "        new_states = []\n",
    "        for next_state in cross_mdp[tuple(sorted(old_state.items()))][str(next_action)]:\n",
    "            next_state_dict = dict(next_state)\n",
    "            if(nextObs(list(old_state['history'])) != list(next_state_dict['history'])):\n",
    "                continue\n",
    "            new_states.append((int(next_state_dict['colAgent']), int(next_state_dict['rowAgent']), int(next_state_dict['viewAgent']),))\n",
    "        \n",
    "        updated = False\n",
    "        for i in range(1,k+1):\n",
    "            if state[f\"action{i}\"]=='-1' and not updated:\n",
    "                state[f\"action{i}\"] = str(next_action)\n",
    "                updated=True\n",
    "\n",
    "        old_history = []\n",
    "        for i in range(1,k+1):\n",
    "            old_history.append(int(state[f\"history{i}\"]))\n",
    "\n",
    "        new_history = nextNonObs(old_history)\n",
    "        for i in range(1,k+1):\n",
    "            state[f\"history{i}\"] = str(new_history[i-1])\n",
    "\n",
    "        print(\"Not Observed:\")\n",
    "        img = Image.fromarray(image_env.render()).convert(\"RGBA\")\n",
    "        ts = image_env.tile_size\n",
    "        overlay = Image.new(\"RGBA\", img.size, (255, 255, 255, 0))\n",
    "        draw = ImageDraw.Draw(overlay)\n",
    "        yellow = (255,255,0,150)\n",
    "\n",
    "        for new_state in new_states:\n",
    "            draw.polygon(triangle_for_overlay(new_state[0],new_state[1],(new_state[2]+2)%4,ts), fill=yellow)\n",
    "\n",
    "        img = Image.alpha_composite(img, overlay)\n",
    "\n",
    "    display(img)\n",
    "    time.sleep(1)"
   ]
  },
  {
   "cell_type": "code",
   "execution_count": null,
   "metadata": {},
   "outputs": [],
   "source": []
  }
 ],
 "metadata": {
  "kernelspec": {
   "display_name": "venv",
   "language": "python",
   "name": "python3"
  },
  "language_info": {
   "codemirror_mode": {
    "name": "ipython",
    "version": 3
   },
   "file_extension": ".py",
   "mimetype": "text/x-python",
   "name": "python",
   "nbconvert_exporter": "python",
   "pygments_lexer": "ipython3",
   "version": "3.10.12"
  }
 },
 "nbformat": 4,
 "nbformat_minor": 4
}
